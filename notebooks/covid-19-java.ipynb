{
 "cells": [
  {
   "cell_type": "markdown",
   "metadata": {},
   "source": [
    "# Covid-19 Data Analysis"
   ]
  },
  {
   "cell_type": "markdown",
   "metadata": {},
   "source": [
    "## Data Source\n",
    "\n",
    "Source data for this notebook may be found on [GitHub](https://github.com/) at\n",
    "[covid-19](https://github.com/datasets/covid-19.git).  Additional data may\n",
    "be found from the [NY Times](https://github.com/nytimes/covid-19-data.git)."
   ]
  },
  {
   "cell_type": "code",
   "execution_count": 1,
   "metadata": {},
   "outputs": [
    {
     "name": "stdout",
     "output_type": "stream",
     "text": [
      "Cloning into 'covid-19'...\n",
      "commit b5fbb3a77f37972ead2f11f88f1fd0e3aee6c917\n",
      "Author: GitHub Action <action@github.com>\n",
      "Date:   Thu Apr 22 06:07:07 2021 +0000\n",
      "\n",
      "    Auto-update of the data packages\n"
     ]
    }
   ],
   "source": [
    "%%bash\n",
    "if [ ! -d covid-19 ]; then\n",
    "    git clone https://github.com/datasets/covid-19.git\n",
    "    (cd covid-19; git config pull.rebase false)\n",
    "else\n",
    "    (cd covid-19; git pull)\n",
    "fi\n",
    "\n",
    "(cd covid-19; git log -n 1)"
   ]
  },
  {
   "cell_type": "code",
   "execution_count": 2,
   "metadata": {},
   "outputs": [
    {
     "name": "stdout",
     "output_type": "stream",
     "text": [
      "countries-aggregated.csv\n",
      "key-countries-pivoted.csv\n",
      "reference.csv\n",
      "time-series-19-covid-combined.csv\n",
      "us_confirmed.csv\n",
      "us_deaths.csv\n",
      "us_simplified.csv\n",
      "worldwide-aggregate.csv\n"
     ]
    }
   ],
   "source": [
    "%%bash\n",
    "ls covid-19/data"
   ]
  },
  {
   "cell_type": "markdown",
   "metadata": {},
   "source": [
    "# Dependencies"
   ]
  },
  {
   "cell_type": "code",
   "execution_count": 3,
   "metadata": {},
   "outputs": [],
   "source": [
    "%%pom\n",
    "---\n",
    "dependencies:\n",
    "- org.knowm.xchart:xchart:3.8.0"
   ]
  },
  {
   "cell_type": "markdown",
   "metadata": {},
   "source": [
    "## Spark"
   ]
  },
  {
   "cell_type": "code",
   "execution_count": 4,
   "metadata": {},
   "outputs": [
    {
     "data": {
      "text/html": [
       "\n",
       "<div>\n",
       "  <a href=\"http://10.0.1.2:4040\" target=\"_newtab\">\n",
       "    local[8]\n",
       "    covid-19\n",
       "  </a>\n",
       "</div>\n"
      ]
     },
     "metadata": {},
     "output_type": "display_data"
    }
   ],
   "source": [
    "import org.apache.spark.*;\n",
    "import org.apache.spark.sql.*;\n",
    "import org.apache.spark.sql.types.*;\n",
    "\n",
    "import static org.apache.spark.sql.functions.*;\n",
    "\n",
    "var config = new SparkConf().setMaster(\"local[8]\").setAppName(\"covid-19\");\n",
    "var session = SparkSession.builder().config(config).getOrCreate();\n",
    "\n",
    "display(session);"
   ]
  },
  {
   "cell_type": "code",
   "execution_count": 5,
   "metadata": {},
   "outputs": [],
   "source": [
    "var reader = session.read().option(\"header\", true).option(\"inferSchema\", true);\n",
    "\n",
    "var countries_aggregated =\n",
    "    reader.csv(\"covid-19/data/countries-aggregated.csv\")\n",
    "    .withColumn(\"Date\", col(\"Date\").cast(DataTypes.DateType));\n",
    "var key_countries_pivoted =\n",
    "    reader.csv(\"covid-19/data/key-countries-pivoted.csv\")\n",
    "    .withColumn(\"Date\", col(\"Date\").cast(DataTypes.DateType));\n",
    "var reference = reader.csv(\"covid-19/data/reference.csv\");\n",
    "var time_series_19_covid_combined =\n",
    "    reader.csv(\"covid-19/data/time-series-19-covid-combined.csv\")\n",
    "    .withColumn(\"Date\", col(\"Date\").cast(DataTypes.DateType));\n",
    "var us_confirmed =\n",
    "    reader.csv(\"covid-19/data/us_confirmed.csv\")\n",
    "    .withColumn(\"Date\", col(\"Date\").cast(DataTypes.DateType));\n",
    "var us_deaths =\n",
    "    reader.csv(\"covid-19/data/us_deaths.csv\")\n",
    "    .withColumn(\"Date\", col(\"Date\").cast(DataTypes.DateType));\n",
    "var us_simplified =\n",
    "    reader.csv(\"covid-19/data/us_simplified.csv\")\n",
    "    .withColumn(\"Date\", col(\"Date\").cast(DataTypes.DateType));\n",
    "var worldwide_aggregate =\n",
    "    reader.csv(\"covid-19/data/worldwide-aggregate.csv\")\n",
    "    .withColumn(\"Date\", col(\"Date\").cast(DataTypes.DateType));"
   ]
  },
  {
   "cell_type": "code",
   "execution_count": 6,
   "metadata": {},
   "outputs": [
    {
     "name": "stdout",
     "output_type": "stream",
     "text": [
      "root\n",
      " |-- Date: date (nullable = true)\n",
      " |-- Admin2: string (nullable = true)\n",
      " |-- Province/State: string (nullable = true)\n",
      " |-- Confirmed: integer (nullable = true)\n",
      " |-- Deaths: integer (nullable = true)\n",
      " |-- Country/Region: string (nullable = true)\n",
      "\n"
     ]
    }
   ],
   "source": [
    "us_simplified.printSchema();"
   ]
  },
  {
   "cell_type": "code",
   "execution_count": 7,
   "metadata": {},
   "outputs": [
    {
     "name": "stdout",
     "output_type": "stream",
     "text": [
      "+----------+-------+--------------+---------+------+--------------+\n",
      "|      Date| Admin2|Province/State|Confirmed|Deaths|Country/Region|\n",
      "+----------+-------+--------------+---------+------+--------------+\n",
      "|2020-01-22|Autauga|       Alabama|        0|     0|            US|\n",
      "|2020-01-23|Autauga|       Alabama|        0|     0|            US|\n",
      "|2020-01-24|Autauga|       Alabama|        0|     0|            US|\n",
      "|2020-01-25|Autauga|       Alabama|        0|     0|            US|\n",
      "|2020-01-26|Autauga|       Alabama|        0|     0|            US|\n",
      "|2020-01-27|Autauga|       Alabama|        0|     0|            US|\n",
      "|2020-01-28|Autauga|       Alabama|        0|     0|            US|\n",
      "|2020-01-29|Autauga|       Alabama|        0|     0|            US|\n",
      "|2020-01-30|Autauga|       Alabama|        0|     0|            US|\n",
      "|2020-01-31|Autauga|       Alabama|        0|     0|            US|\n",
      "|2020-02-01|Autauga|       Alabama|        0|     0|            US|\n",
      "|2020-02-02|Autauga|       Alabama|        0|     0|            US|\n",
      "|2020-02-03|Autauga|       Alabama|        0|     0|            US|\n",
      "|2020-02-04|Autauga|       Alabama|        0|     0|            US|\n",
      "|2020-02-05|Autauga|       Alabama|        0|     0|            US|\n",
      "|2020-02-06|Autauga|       Alabama|        0|     0|            US|\n",
      "|2020-02-07|Autauga|       Alabama|        0|     0|            US|\n",
      "|2020-02-08|Autauga|       Alabama|        0|     0|            US|\n",
      "|2020-02-09|Autauga|       Alabama|        0|     0|            US|\n",
      "|2020-02-10|Autauga|       Alabama|        0|     0|            US|\n",
      "|2020-02-11|Autauga|       Alabama|        0|     0|            US|\n",
      "|2020-02-12|Autauga|       Alabama|        0|     0|            US|\n",
      "|2020-02-13|Autauga|       Alabama|        0|     0|            US|\n",
      "|2020-02-14|Autauga|       Alabama|        0|     0|            US|\n",
      "|2020-02-15|Autauga|       Alabama|        0|     0|            US|\n",
      "|2020-02-16|Autauga|       Alabama|        0|     0|            US|\n",
      "|2020-02-17|Autauga|       Alabama|        0|     0|            US|\n",
      "|2020-02-18|Autauga|       Alabama|        0|     0|            US|\n",
      "|2020-02-19|Autauga|       Alabama|        0|     0|            US|\n",
      "|2020-02-20|Autauga|       Alabama|        0|     0|            US|\n",
      "|2020-02-21|Autauga|       Alabama|        0|     0|            US|\n",
      "|2020-02-22|Autauga|       Alabama|        0|     0|            US|\n",
      "|2020-02-23|Autauga|       Alabama|        0|     0|            US|\n",
      "|2020-02-24|Autauga|       Alabama|        0|     0|            US|\n",
      "|2020-02-25|Autauga|       Alabama|        0|     0|            US|\n",
      "|2020-02-26|Autauga|       Alabama|        0|     0|            US|\n",
      "|2020-02-27|Autauga|       Alabama|        0|     0|            US|\n",
      "|2020-02-28|Autauga|       Alabama|        0|     0|            US|\n",
      "|2020-02-29|Autauga|       Alabama|        0|     0|            US|\n",
      "|2020-03-01|Autauga|       Alabama|        0|     0|            US|\n",
      "+----------+-------+--------------+---------+------+--------------+\n",
      "only showing top 40 rows\n",
      "\n"
     ]
    }
   ],
   "source": [
    "us_simplified.show(40);"
   ]
  },
  {
   "cell_type": "code",
   "execution_count": 8,
   "metadata": {},
   "outputs": [],
   "source": [
    "import java.util.Map;\n",
    "\n",
    "var by_state =\n",
    "    us_simplified\n",
    "    .groupBy(\"Country/Region\", \"Province/State\")\n",
    "    .agg(Map.of(\"Deaths\", \"max\"))\n",
    "    .orderBy(\"max(Deaths)\");"
   ]
  },
  {
   "cell_type": "code",
   "execution_count": 9,
   "metadata": {},
   "outputs": [
    {
     "name": "stdout",
     "output_type": "stream",
     "text": [
      "+--------------+--------------------+-----------+\n",
      "|Country/Region|      Province/State|max(Deaths)|\n",
      "+--------------+--------------------+-----------+\n",
      "|            US|      American Samoa|          0|\n",
      "|            US|    Diamond Princess|          0|\n",
      "|            US|Northern Mariana ...|          2|\n",
      "|            US|      Grand Princess|          3|\n",
      "|            US|      Virgin Islands|         27|\n",
      "|            US|             Vermont|        101|\n",
      "|            US|                Guam|        136|\n",
      "|            US|             Wyoming|        136|\n",
      "|            US|              Alaska|        174|\n",
      "|            US|               Maine|        188|\n",
      "|            US|        North Dakota|        202|\n",
      "|            US|             Montana|        262|\n",
      "|            US|       West Virginia|        344|\n",
      "|            US|        South Dakota|        348|\n",
      "|            US|              Hawaii|        370|\n",
      "|            US|         Mississippi|        411|\n",
      "|            US|               Idaho|        457|\n",
      "|            US|              Oregon|        570|\n",
      "|            US|                Iowa|        608|\n",
      "|            US|       New Hampshire|        614|\n",
      "|            US|            Arkansas|        645|\n",
      "|            US|            Nebraska|        662|\n",
      "|            US|              Kansas|        756|\n",
      "|            US|            Colorado|        794|\n",
      "|            US|            Delaware|        799|\n",
      "|            US|                Utah|        839|\n",
      "|            US|           Louisiana|        886|\n",
      "|            US|          New Mexico|        922|\n",
      "|            US|      North Carolina|        933|\n",
      "|            US|      South Carolina|        972|\n",
      "|            US|            Virginia|       1065|\n",
      "|            US|District of Columbia|       1097|\n",
      "|            US|            Kentucky|       1147|\n",
      "|            US|            Oklahoma|       1174|\n",
      "|            US|           Wisconsin|       1325|\n",
      "|            US|             Georgia|       1340|\n",
      "|            US|             Alabama|       1496|\n",
      "|            US|          Washington|       1503|\n",
      "|            US|            Maryland|       1506|\n",
      "|            US|           Tennessee|       1591|\n",
      "|            US|           Minnesota|       1690|\n",
      "|            US|             Indiana|       1722|\n",
      "|            US|        Rhode Island|       1934|\n",
      "|            US|                Ohio|       2072|\n",
      "|            US|            Missouri|       2147|\n",
      "|            US|         Puerto Rico|       2238|\n",
      "|            US|         Connecticut|       2375|\n",
      "|            US|          New Jersey|       2860|\n",
      "|            US|        Pennsylvania|       3413|\n",
      "|            US|       Massachusetts|       3701|\n",
      "|            US|              Nevada|       4227|\n",
      "|            US|            Michigan|       4481|\n",
      "|            US|             Florida|       6059|\n",
      "|            US|               Texas|       6102|\n",
      "|            US|             Arizona|       9788|\n",
      "|            US|            Illinois|       9847|\n",
      "|            US|            New York|      10025|\n",
      "|            US|          California|      23702|\n",
      "+--------------+--------------------+-----------+\n",
      "\n"
     ]
    }
   ],
   "source": [
    "by_state.show(100);"
   ]
  },
  {
   "cell_type": "code",
   "execution_count": 10,
   "metadata": {},
   "outputs": [],
   "source": [
    "var dates = time_series_19_covid_combined.select(\"Date\").distinct().orderBy(\"Date\");\n",
    "var interval = dates.agg(min(\"Date\"), max(\"Date\")).head();\n",
    "var snapshot =\n",
    "    time_series_19_covid_combined\n",
    "    .filter(col(\"Date\").leq(interval.get(1)))\n",
    "    .groupBy(col(\"Country/Region\"))\n",
    "    .agg(max(col(\"Deaths\")).as(\"Deaths\"))\n",
    "    .orderBy(desc(\"Deaths\"));"
   ]
  },
  {
   "cell_type": "code",
   "execution_count": 11,
   "metadata": {},
   "outputs": [
    {
     "data": {
      "image/png": "[encoded data removed]"
     },
     "execution_count": 11,
     "metadata": {
      "image/png": {
       "height": 600,
       "width": 800
      }
     },
     "output_type": "execute_result"
    }
   ],
   "source": [
    "import org.knowm.xchart.*;\n",
    "\n",
    "var chart = new PieChartBuilder().width(800).height(600).build();\n",
    "\n",
    "snapshot.collectAsList().stream().limit(10).forEach(r -> chart.addSeries(r.getAs(0), r.getAs(1)));\n",
    "\n",
    "print(chart);"
   ]
  }
 ],
 "metadata": {
  "kernelspec": {
   "display_name": "Ganymede 1.0.0.20210422 (Java 11) with Spark 3.1.1",
   "language": "java",
   "name": "ganymede-1.0.0.20210422-java-11-spark-3.1.1"
  },
  "language_info": {
   "file_extension": ".java",
   "mimetype": "text/x-java",
   "name": "java",
   "version": "11"
  },
  "name": "covid-19-java.ipynb"
 },
 "nbformat": 4,
 "nbformat_minor": 4
}
