{
 "cells": [
  {
   "cell_type": "code",
   "execution_count": 1,
   "id": "executive-helena",
   "metadata": {},
   "outputs": [
    {
     "name": "stdout",
     "output_type": "stream",
     "text": [
      "Hello, World\n"
     ]
    }
   ],
   "source": [
    "var greeting = \"Hello, World\";\n",
    "\n",
    "System.out.println(greeting);"
   ]
  },
  {
   "cell_type": "code",
   "execution_count": 2,
   "id": "banner-harbor",
   "metadata": {},
   "outputs": [
    {
     "data": {
      "text/plain": [
       "Hello, World"
      ]
     },
     "execution_count": 2,
     "metadata": {},
     "output_type": "execute_result"
    }
   ],
   "source": [
    "%%java\n",
    "print(greeting);"
   ]
  },
  {
   "cell_type": "code",
   "execution_count": 3,
   "id": "junior-angle",
   "metadata": {},
   "outputs": [
    {
     "name": "stdout",
     "output_type": "stream",
     "text": [
      "Hello, World\n"
     ]
    }
   ],
   "source": [
    "%%groovy\n",
    "println greeting;"
   ]
  },
  {
   "cell_type": "code",
   "execution_count": 4,
   "id": "quarterly-intention",
   "metadata": {},
   "outputs": [
    {
     "name": "stdout",
     "output_type": "stream",
     "text": [
      "Hello, World\n"
     ]
    }
   ],
   "source": [
    "%%js\n",
    "print(greeting);"
   ]
  },
  {
   "cell_type": "code",
   "execution_count": 5,
   "id": "separate-porcelain",
   "metadata": {},
   "outputs": [
    {
     "name": "stdout",
     "output_type": "stream",
     "text": [
      "Hello, World\n"
     ]
    }
   ],
   "source": [
    "%%kotlin\n",
    "println(greeting)"
   ]
  },
  {
   "cell_type": "code",
   "execution_count": 6,
   "id": "64e33c0c",
   "metadata": {},
   "outputs": [],
   "source": [
    "%%pom\n",
    "dependencies:\n",
    "- org.scala-lang:scala-compiler:2.12.10\n",
    "- org.scala-lang:scala-library:2.12.10"
   ]
  },
  {
   "cell_type": "code",
   "execution_count": 7,
   "id": "suspended-biology",
   "metadata": {},
   "outputs": [],
   "source": [
    "%%scala\n",
    "// Note: Fails to print\n",
    "println(greeting)"
   ]
  },
  {
   "cell_type": "code",
   "execution_count": 8,
   "id": "passing-alaska",
   "metadata": {},
   "outputs": [
    {
     "name": "stdout",
     "output_type": "stream",
     "text": [
      "Hello, World\n"
     ]
    }
   ],
   "source": [
    "%%scala\n",
    "System.out.println(greeting)"
   ]
  },
  {
   "cell_type": "code",
   "execution_count": 9,
   "id": "b6869101",
   "metadata": {},
   "outputs": [
    {
     "data": {
      "text/html": [
       "\n",
       "<div>\n",
       "  <style scoped>\n",
       "    .bindings thead th {\n",
       "      text-align: center;\n",
       "    }\n",
       "\n",
       "    .bindings tbody tr th {\n",
       "      vertical-align: top;\n",
       "    }\n",
       "\n",
       "    .bindings tbody td {\n",
       "      text-align: left;\n",
       "    }\n",
       "  </style>\n",
       "  <table border=\"1\" class=\"bindings\">\n",
       "    <thead>\n",
       "      <tr><th>Name</th><th>Type</th><th>Value</th></tr>\n",
       "    </thead>\n",
       "    <tbody>\n",
       "      <tr>\n",
       "        <td>greeting</td><td>String</td><td>Hello, World</td>\n",
       "      </tr>\n",
       "      <tr>\n",
       "        <td>kotlin.script.engine</td><td></td><td>kotlin.script.experimental.jvmhost.jsr223.KotlinJsr223ScriptEngineImpl@2bb9af36</td>\n",
       "      </tr>\n",
       "      <tr>\n",
       "        <td>kotlin.script.state</td><td></td><td>org.jetbrains.kotlin.cli.common.repl.AggregatedReplStageState@4ea1aa52</td>\n",
       "      </tr>\n",
       "      <tr>\n",
       "        <td>polyglot.context</td><td></td><td>org.graalvm.polyglot.Context@6a5b7fbc</td>\n",
       "      </tr>\n",
       "    </tbody>\n",
       "  </table>\n",
       "</div>\n"
      ]
     },
     "execution_count": 9,
     "metadata": {},
     "output_type": "execute_result"
    }
   ],
   "source": [
    "%%java"
   ]
  }
 ],
 "metadata": {
  "kernelspec": {
   "display_name": "Ganymede 1.0.0-beta.2 (Java 11)",
   "language": "java",
   "name": "ganymede-1.0.0-beta.2-java-11"
  },
  "language_info": {
   "file_extension": ".java",
   "mimetype": "text/x-java",
   "name": "java",
   "version": "11"
  },
  "name": "ganymede.ipynb"
 },
 "nbformat": 4,
 "nbformat_minor": 5
}
